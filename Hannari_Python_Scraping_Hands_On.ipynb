{
 "cells": [
  {
   "cell_type": "markdown",
   "metadata": {},
   "source": [
    "## はんなりPython #9\n",
    "\n",
    "# 今日はみんなでスクレイピングしてみましょう！\n",
    "\n",
    "* ライブラリ：　requests, BeautifulSoup4, Pandas, time\n",
    "* とりあえずいろいろやってみましょう"
   ]
  },
  {
   "cell_type": "markdown",
   "metadata": {},
   "source": [
    "# 1.まずはAPIを使ってみましょう！\n",
    "* 色々なテクニックを使ってデータを取得する前に、APIを探してみましょう。     \n",
    "* もしAPIがあるなら、そこから簡単にデータが取れ、苦労する必要はありません。     \n",
    "* まずは<span style='color: red; font-size: 20px;'>ライブラリrequests</span>を使って、仮想通貨取引所zaifのapiを使ってみます。     \n",
    "* requestsのサイト(quickstart): http://docs.python-requests.org/en/master/user/quickstart/\n",
    "* zaifのAPIのサイト: https://corp.zaif.jp/api-docs/　       \n"
   ]
  },
  {
   "cell_type": "code",
   "execution_count": 1,
   "metadata": {},
   "outputs": [
    {
     "data": {
      "text/plain": [
       "200"
      ]
     },
     "execution_count": 1,
     "metadata": {},
     "output_type": "execute_result"
    }
   ],
   "source": [
    "# まずはライブラリをインポートします\n",
    "import requests\n",
    "# APIを叩きます\n",
    "r = requests.get('https://api.zaif.jp/api/1/last_price/btc_jpy')\n",
    "# APIからの反応を見ます\n",
    "r.status_code"
   ]
  },
  {
   "cell_type": "markdown",
   "metadata": {},
   "source": [
    "## HTTPステータスコード\n",
    "* wikipedia https://ja.wikipedia.org/wiki/HTTP%E3%82%B9%E3%83%86%E3%83%BC%E3%82%BF%E3%82%B9%E3%82%B3%E3%83%BC%E3%83%89      \n",
    "* 2xxなら成功です！！！"
   ]
  },
  {
   "cell_type": "code",
   "execution_count": 2,
   "metadata": {},
   "outputs": [
    {
     "data": {
      "text/plain": [
       "'{\"last_price\": 711440.0}'"
      ]
     },
     "execution_count": 2,
     "metadata": {},
     "output_type": "execute_result"
    }
   ],
   "source": [
    "# とりあえず中身を見る場合textを！！！！\n",
    "r.text"
   ]
  },
  {
   "cell_type": "code",
   "execution_count": 3,
   "metadata": {},
   "outputs": [
    {
     "data": {
      "text/plain": [
       "'application/json'"
      ]
     },
     "execution_count": 3,
     "metadata": {},
     "output_type": "execute_result"
    }
   ],
   "source": [
    "r.headers['content-type']"
   ]
  },
  {
   "cell_type": "code",
   "execution_count": 4,
   "metadata": {},
   "outputs": [
    {
     "data": {
      "text/plain": [
       "{'last_price': 711440.0}"
      ]
     },
     "execution_count": 4,
     "metadata": {},
     "output_type": "execute_result"
    }
   ],
   "source": [
    "r.json()"
   ]
  },
  {
   "cell_type": "code",
   "execution_count": 5,
   "metadata": {},
   "outputs": [
    {
     "data": {
      "text/plain": [
       "711440.0"
      ]
     },
     "execution_count": 5,
     "metadata": {},
     "output_type": "execute_result"
    }
   ],
   "source": [
    "# 価格データだけを取る\n",
    "r.json()['last_price']"
   ]
  },
  {
   "cell_type": "code",
   "execution_count": 6,
   "metadata": {},
   "outputs": [],
   "source": [
    "# 一秒おきにデータを取ってリストに入れる\n",
    "\n",
    "import time\n",
    "\n",
    "price = []\n",
    "for t in range(10):\n",
    "    r = requests.get('https://api.zaif.jp/api/1/last_price/btc_jpy')\n",
    "    price.append(r.json()['last_price'])\n",
    "    time.sleep(1)"
   ]
  },
  {
   "cell_type": "code",
   "execution_count": 7,
   "metadata": {},
   "outputs": [
    {
     "name": "stdout",
     "output_type": "stream",
     "text": [
      "[711440.0, 711440.0, 711500.0, 711435.0, 711445.0, 711455.0, 711455.0, 711455.0, 711460.0, 711460.0]\n"
     ]
    }
   ],
   "source": [
    "print(price)"
   ]
  },
  {
   "cell_type": "code",
   "execution_count": 8,
   "metadata": {},
   "outputs": [
    {
     "data": {
      "text/plain": [
       "<matplotlib.axes._subplots.AxesSubplot at 0x22c244e5518>"
      ]
     },
     "execution_count": 8,
     "metadata": {},
     "output_type": "execute_result"
    },
    {
     "data": {
      "image/png": "[encoded data removed]",
      "text/plain": [
       "<Figure size 432x288 with 1 Axes>"
      ]
     },
     "metadata": {},
     "output_type": "display_data"
    }
   ],
   "source": [
    "import pandas as pd\n",
    "%matplotlib inline\n",
    "pd.Series(price).plot()"
   ]
  },
  {
   "cell_type": "markdown",
   "metadata": {},
   "source": [
    "## 課題１\n",
    "### zaifのAPIを使って、btc_jpyのtickerのデータを取ってみましょう。     \n",
    "https://corp.zaif.jp/api-docs/　\n",
    "### 取れたら\"volume\"のデータを抜き出しましょう。     \n",
    "### 次に何秒間かのデータを作り、グラフを作ってみましょう！"
   ]
  },
  {
   "cell_type": "markdown",
   "metadata": {},
   "source": [
    "# 2.WEBサイトからデータを取る\n",
    "### APIがない場合はWEBサイトからデータを集めないといけなくなります\n",
    "### 今回は日経新聞のウェブから日本の10年金利とそのサイトへのリンクを取ります。"
   ]
  },
  {
   "cell_type": "code",
   "execution_count": 9,
   "metadata": {},
   "outputs": [],
   "source": [
    "from bs4 import BeautifulSoup"
   ]
  },
  {
   "cell_type": "code",
   "execution_count": 10,
   "metadata": {},
   "outputs": [],
   "source": [
    "# 適当なサイトから目標とする値を取ってみる\n",
    "r = requests.get('https://www.nikkei.com/')\n",
    "\n",
    "bsobj = BeautifulSoup(r.text, 'lxml')\n",
    "# パーサーの話： https://www.crummy.com/software/BeautifulSoup/bs4/doc/#installing-a-parser"
   ]
  },
  {
   "cell_type": "markdown",
   "metadata": {},
   "source": [
    "## これでウェブページの全体が読み込まれました！\n",
    "\n",
    "## 次に取りたい場所をクロームで調べましょう！      \n",
    "* やり方　==>  取りたい場所を右クリック　==>  検証を押す\n",
    "* それで取りたいデータのタグや属性を調べます。    \n",
    "* それを指定してほしいデータを取ります。"
   ]
  },
  {
   "cell_type": "code",
   "execution_count": 11,
   "metadata": {},
   "outputs": [
    {
     "data": {
      "text/plain": [
       "<div class=\"m-miH01C_cell m-miH01C_cell_col5\" data-id=\"JSID_JpnIndex\"><a href=\"/markets/worldidx/chart/nk225/\" title=\"9/7 15:15 大引\"><span class=\"m-miH01C_exchange\">日経平均</span><span class=\"m-miH01C_rate\">22,307.06</span><span class=\"m-miH01C_comparison minus\">-180.88</span></a></div>"
      ]
     },
     "execution_count": 11,
     "metadata": {},
     "output_type": "execute_result"
    }
   ],
   "source": [
    "bsobj.find('div', {'class':'m-miH01C_cell m-miH01C_cell_col5'})"
   ]
  },
  {
   "cell_type": "code",
   "execution_count": 12,
   "metadata": {},
   "outputs": [
    {
     "data": {
      "text/plain": [
       "[<div class=\"m-miH01C_cell m-miH01C_cell_col5\" data-id=\"JSID_JpnIndex\"><a href=\"/markets/worldidx/chart/nk225/\" title=\"9/7 15:15 大引\"><span class=\"m-miH01C_exchange\">日経平均</span><span class=\"m-miH01C_rate\">22,307.06</span><span class=\"m-miH01C_comparison minus\">-180.88</span></a></div>,\n",
       " <div class=\"m-miH01C_cell m-miH01C_cell_col5\" data-id=\"JSID_DowJones\"><a href=\"/markets/kaigai/\" title=\"9/7 17:20 終値\"><span class=\"m-miH01C_exchange\">NYダウ</span><span class=\"m-miH01C_rate\">25,916.54</span><span class=\"m-miH01C_comparison minus\">-79.33</span></a></div>,\n",
       " <div class=\"m-miH01C_cell m-miH01C_cell_col5\" data-id=\"JSID_YenDollarExchange\"><a href=\"/markets/kawase/\" title=\"9/8 5:49\"><span class=\"m-miH01C_exchange\">ドル円</span><span class=\"m-miH01C_rate\">111.03-04</span><span class=\"m-miH01C_comparison minus\">-0.28</span></a></div>,\n",
       " <div class=\"m-miH01C_cell m-miH01C_cell_col5\" data-id=\"JSID_NYCrudeOilRate\"><a href=\"/markets/shohin/\" title=\"9/7 16:59\"><span class=\"m-miH01C_exchange\">NY原油</span><span class=\"m-miH01C_rate\">67.86</span><span class=\"m-miH01C_comparison plus\">+0.09</span></a></div>,\n",
       " <div class=\"m-miH01C_cell m-miH01C_cell_col5\" data-id=\"JSID_JPNLongTermInterestRate\"><a href=\"/markets/kawase/page/?uah=DF_SEC8_C3_150\" title=\"9/7 14:36\"><span class=\"m-miH01C_exchange\">長期金利</span><span class=\"m-miH01C_rate\">0.105</span><span class=\"m-miH01C_comparison stay\">±0.000</span></a></div>]"
      ]
     },
     "execution_count": 12,
     "metadata": {},
     "output_type": "execute_result"
    }
   ],
   "source": [
    "bsobj.findAll('div', {'class':'m-miH01C_cell m-miH01C_cell_col5'})"
   ]
  },
  {
   "cell_type": "code",
   "execution_count": 13,
   "metadata": {},
   "outputs": [
    {
     "data": {
      "text/plain": [
       "'/markets/kawase/page/?uah=DF_SEC8_C3_150'"
      ]
     },
     "execution_count": 13,
     "metadata": {},
     "output_type": "execute_result"
    }
   ],
   "source": [
    "bsobj.findAll('div', {'class':'m-miH01C_cell m-miH01C_cell_col5'})[4].a['href']"
   ]
  },
  {
   "cell_type": "code",
   "execution_count": 14,
   "metadata": {},
   "outputs": [
    {
     "name": "stdout",
     "output_type": "stream",
     "text": [
      "https://www.nikkei.com//markets/kawase/page/?uah=DF_SEC8_C3_150\n"
     ]
    }
   ],
   "source": [
    "bond_url='https://www.nikkei.com/' + bsobj.findAll('div', {'class':'m-miH01C_cell'})[4].a['href']\n",
    "print(bond_url)"
   ]
  },
  {
   "cell_type": "markdown",
   "metadata": {},
   "source": [
    "<span style='color:red; font-size: 25px;'> spanが二つある場合、後ろにあるものをどうやって取るか分からなかったのでセレクターを変えて取った。2つ目を取る方法はあるか？</span>"
   ]
  },
  {
   "cell_type": "code",
   "execution_count": 15,
   "metadata": {},
   "outputs": [
    {
     "data": {
      "text/plain": [
       "<span class=\"m-miH01C_exchange\">長期金利</span>"
      ]
     },
     "execution_count": 15,
     "metadata": {},
     "output_type": "execute_result"
    }
   ],
   "source": [
    "bsobj.findAll('div', {'class':'m-miH01C_cell m-miH01C_cell_col5'})[4].span"
   ]
  },
  {
   "cell_type": "code",
   "execution_count": 16,
   "metadata": {},
   "outputs": [
    {
     "data": {
      "text/plain": [
       "<div class=\"m-miH01C_cell m-miH01C_cell_col5\" data-id=\"JSID_JPNLongTermInterestRate\"><a href=\"/markets/kawase/page/?uah=DF_SEC8_C3_150\" title=\"9/7 14:36\"><span class=\"m-miH01C_exchange\">長期金利</span><span class=\"m-miH01C_rate\">0.105</span><span class=\"m-miH01C_comparison stay\">±0.000</span></a></div>"
      ]
     },
     "execution_count": 16,
     "metadata": {},
     "output_type": "execute_result"
    }
   ],
   "source": [
    "bsobj.findAll('div', {'class':'m-miH01C_cell m-miH01C_cell_col5'})[4]"
   ]
  },
  {
   "cell_type": "code",
   "execution_count": 17,
   "metadata": {},
   "outputs": [
    {
     "data": {
      "text/plain": [
       "'0.105'"
      ]
     },
     "execution_count": 17,
     "metadata": {},
     "output_type": "execute_result"
    }
   ],
   "source": [
    "bsobj.findAll('span', {'class':'m-miH01C_rate'})[4].get_text()"
   ]
  },
  {
   "cell_type": "markdown",
   "metadata": {},
   "source": [
    "## 課題2\n",
    "\n",
    "#### 日経新聞のアクセスランキングのサイトから総合ランキングトップ10のニュースタイトル、ニュースのリンク、ニュースの日時を取りましょう。     \n",
    "https://www.nikkei.com/access/\n",
    "#### それを辞書に記録してみましょう。\n"
   ]
  },
  {
   "cell_type": "code",
   "execution_count": null,
   "metadata": {},
   "outputs": [],
   "source": []
  }
 ],
 "metadata": {
  "kernelspec": {
   "display_name": "Python 3",
   "language": "python",
   "name": "python3"
  },
  "language_info": {
   "codemirror_mode": {
    "name": "ipython",
    "version": 3
   },
   "file_extension": ".py",
   "mimetype": "text/x-python",
   "name": "python",
   "nbconvert_exporter": "python",
   "pygments_lexer": "ipython3",
   "version": "3.6.5"
  }
 },
 "nbformat": 4,
 "nbformat_minor": 2
}
