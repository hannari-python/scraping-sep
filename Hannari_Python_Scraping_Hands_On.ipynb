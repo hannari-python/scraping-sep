{
 "cells": [
  {
   "cell_type": "markdown",
   "metadata": {},
   "source": [
    "# はんなりPython #9\n",
    "\n",
    "# 今日はみんなでスクレイピングしてみましょう！\n",
    "\n",
    "* ライブラリ：　requests, BeautifulSoup4, Pandas, time\n",
    "* とりあえずやってみましょう"
   ]
  },
  {
   "cell_type": "markdown",
   "metadata": {},
   "source": [
    "# 1.まずはAPIを使ってみましょう！\n",
    "* 色々なテクニックを使ってデータを取得する前に、APIを探してみましょう。     \n",
    "* もしAPIがあるなら、そこから簡単にデータが取れ、苦労する必要はありません。     \n",
    "* まずは<span style='color: red; font-size: 20px;'>ライブラリrequests</span>を使って、仮想通貨取引所zaifのapiを使ってみます。     \n",
    "* requestsのサイト(quickstart): http://docs.python-requests.org/en/master/user/quickstart/\n",
    "* zaifのAPIのサイト: https://corp.zaif.jp/api-docs/　       \n"
   ]
  },
  {
   "cell_type": "code",
   "execution_count": 1,
   "metadata": {},
   "outputs": [
    {
     "data": {
      "text/plain": [
       "200"
      ]
     },
     "execution_count": 1,
     "metadata": {},
     "output_type": "execute_result"
    }
   ],
   "source": [
    "# まずはライブラリをインポートします\n",
    "import requests\n",
    "# APIを叩きます\n",
    "r = requests.get('https://api.zaif.jp/api/1/last_price/btc_jpy')\n",
    "# APIからの反応を見ます\n",
    "r.status_code"
   ]
  },
  {
   "cell_type": "markdown",
   "metadata": {},
   "source": [
    "## HTTPステータスコード\n",
    "* wikipedia https://ja.wikipedia.org/wiki/HTTP%E3%82%B9%E3%83%86%E3%83%BC%E3%82%BF%E3%82%B9%E3%82%B3%E3%83%BC%E3%83%89      \n",
    "* 2xxなら成功です！！！"
   ]
  },
  {
   "cell_type": "code",
   "execution_count": 2,
   "metadata": {},
   "outputs": [
    {
     "data": {
      "text/plain": [
       "'{\"last_price\": 730005.0}'"
      ]
     },
     "execution_count": 2,
     "metadata": {},
     "output_type": "execute_result"
    }
   ],
   "source": [
    "# とりあえず中身を見る場合textを！！！！\n",
    "r.text"
   ]
  },
  {
   "cell_type": "code",
   "execution_count": 3,
   "metadata": {},
   "outputs": [
    {
     "data": {
      "text/plain": [
       "'application/json'"
      ]
     },
     "execution_count": 3,
     "metadata": {},
     "output_type": "execute_result"
    }
   ],
   "source": [
    "r.headers['content-type']"
   ]
  },
  {
   "cell_type": "code",
   "execution_count": 4,
   "metadata": {},
   "outputs": [
    {
     "data": {
      "text/plain": [
       "{'last_price': 730005.0}"
      ]
     },
     "execution_count": 4,
     "metadata": {},
     "output_type": "execute_result"
    }
   ],
   "source": [
    "r.json()"
   ]
  },
  {
   "cell_type": "code",
   "execution_count": 5,
   "metadata": {},
   "outputs": [
    {
     "data": {
      "text/plain": [
       "730005.0"
      ]
     },
     "execution_count": 5,
     "metadata": {},
     "output_type": "execute_result"
    }
   ],
   "source": [
    "# 価格データだけを取る\n",
    "r.json()['last_price']"
   ]
  },
  {
   "cell_type": "code",
   "execution_count": 6,
   "metadata": {},
   "outputs": [],
   "source": [
    "# 一秒おきにデータを取ってリストに入れる\n",
    "\n",
    "import time\n",
    "\n",
    "price = []\n",
    "for t in range(10):\n",
    "    r = requests.get('https://api.zaif.jp/api/1/last_price/btc_jpy')\n",
    "    price.append(r.json()['last_price'])\n",
    "    time.sleep(1)"
   ]
  },
  {
   "cell_type": "code",
   "execution_count": 7,
   "metadata": {},
   "outputs": [
    {
     "name": "stdout",
     "output_type": "stream",
     "text": [
      "[730005.0, 730005.0, 730005.0, 730005.0, 730175.0, 730175.0, 730175.0, 730200.0, 730185.0, 730200.0]\n"
     ]
    }
   ],
   "source": [
    "print(price)"
   ]
  },
  {
   "cell_type": "code",
   "execution_count": 8,
   "metadata": {},
   "outputs": [
    {
     "data": {
      "text/plain": [
       "<matplotlib.axes._subplots.AxesSubplot at 0x1e17f47d518>"
      ]
     },
     "execution_count": 8,
     "metadata": {},
     "output_type": "execute_result"
    },
    {
     "data": {
      "image/png": "[encoded data removed]",
      "text/plain": [
       "<Figure size 432x288 with 1 Axes>"
      ]
     },
     "metadata": {},
     "output_type": "display_data"
    }
   ],
   "source": [
    "import pandas as pd\n",
    "%matplotlib inline\n",
    "pd.Series(price).plot()"
   ]
  },
  {
   "cell_type": "markdown",
   "metadata": {},
   "source": [
    "___     \n",
    "## 課題１\n",
    "### zaifのAPIを使って、btc_jpyのtickerのデータを取ってみましょう。     \n",
    "https://corp.zaif.jp/api-docs/　\n",
    "### 取れたら\"volume\"のデータを抜き出しましょう。     \n",
    "### 次に何秒間かのデータを作り、グラフを作ってみましょう！\n",
    "___     "
   ]
  },
  {
   "cell_type": "markdown",
   "metadata": {},
   "source": [
    "___    \n",
    "\n",
    "# 2.1. 色々なページを徘徊させるその前に！\n",
    "## 参考にしたサイト、本\n",
    "* Stimulator Webスクレイピングする際のルールとPythonによる規約の読み込み     \n",
    "https://vaaaaaanquish.hatenablog.com/entry/2017/12/01/064227      \n",
    "* PythonによるWebスクレイピング       \n",
    "https://www.oreilly.co.jp/books/9784873117614/      \n",
    "\n",
    "### 駄目って言われていないか確認しよう！\n",
    "* 著作権法、動産不法侵入ってのが適用されるみたいです。\n",
    "* 著作権法はデータをそのまま公開しなければよいのかもしれない。     \n",
    "<br>\n",
    "\n",
    "#### Webスクレイピングが動産不法侵入に当たるのは次の3つの基準に違反した場合     　\n",
    "\n",
    "1. 同意の欠如 / サ―ビス規約でスクレイパーの使用を特定的に禁止している場合      \n",
    "2. 実害 / サーバをダウンさせたり、他のユーザーへのサービス能力を限定したりすると、害になる。     \n",
    "3. 意図性 / コードを書いたなら何をするか分かっているはず。     \n",
    "     \n",
    "#### コンピューター犯罪取締法\n",
    "1. 米国政府が所有するコンピュータへ故意に無権限でアクセスして情報を取得すること。\n",
    "2. コンピュータに故意に無権限でアクセスして、金銭情報を得ること。\n",
    "3. 米国政府が所有するコンピュータへ故意に無権限でアクセスして政府によるコンピュータ利用に影響を及ぼすこと。\n",
    "4. 詐取目的で保護されたコンピュータ（protected computer）に故意に無権限でアクセスすること。\n",
    "5. 故意に無権限でコンピュータにアクセスして当該コンピュータに損害を与えること。\n",
    "6. 米国政府が使うコンピュータまたは州間あるいは国際取引に関係するコンピュータのパスワードあるいは認証情報を取得または不正取引すること。\n",
    "7. 金銭もしくは「一切の有価物」を、保護されたコンピュータに対して損害を与えるもしくは損害を与えると脅すことによって強奪しようと試みること。\n",
    "<br>\n",
    "これはアメリカで日本ではもっと違うとの話もあり。\n",
    "\n",
    "#### robot.txtとメタタグを確認する\n",
    "* URLに/robots.txtを足すと、クローラーに対するサイトからの制限が見られる。     \n",
    "* 書き方などに決まりはないものの、基本的にこれを守ればよい。     \n",
    "* 検索エンジンのクローラー向け指示。     \n",
    "* でも法律的なものではないので・・・     \n",
    "* aタグのrelのnofollowチェック　==> あったら基本的にスクレイピング禁止    \n",
    "* metaタグのnofollow、noindex、noarchive等もダメ！     \n",
    "<br>\n",
    "* グーグルによる表示の解説 / https://developers.google.com/search/reference/robots_meta_tag    \n",
    "* https://www.nikkei.com/robots.txt      \n",
    "* https://github.com/robots.txt     \n",
    "* https://www.yahoo.co.jp/    \n",
    "     \n",
    "### ゆっくりやろう！\n",
    "* いまのPCはスペック高いので本気でクローラーが走ると、サーバーへの負荷が半端ない     \n",
    "* だからゆっくりやろう    \n",
    "* 1秒に一回が目安とか言われるが、サイトによります。     \n",
    "* HTTPのステータスコードも確認していたらよいのかなー。  "
   ]
  },
  {
   "cell_type": "markdown",
   "metadata": {},
   "source": [
    "___     \n",
    "# 2.2 WEBサイトからデータを取る\n",
    "### APIがない場合はWEBサイトからデータを集めないといけなくなります\n",
    "### 今回は日経新聞のウェブから日本の10年金利とそのサイトへのリンクを取ります。"
   ]
  },
  {
   "cell_type": "code",
   "execution_count": 9,
   "metadata": {},
   "outputs": [],
   "source": [
    "from bs4 import BeautifulSoup"
   ]
  },
  {
   "cell_type": "code",
   "execution_count": 10,
   "metadata": {},
   "outputs": [],
   "source": [
    "# 適当なサイトから目標とする値を取ってみる\n",
    "r = requests.get('https://www.nikkei.com/')\n",
    "\n",
    "bsobj = BeautifulSoup(r.text, 'lxml')\n",
    "# パーサーの話： https://www.crummy.com/software/BeautifulSoup/bs4/doc/#installing-a-parser"
   ]
  },
  {
   "cell_type": "markdown",
   "metadata": {},
   "source": [
    "## これでウェブページの全体が読み込まれました！\n",
    "\n",
    "## 次に取りたい場所をクロームで調べましょう！      \n",
    "* やり方　==>  取りたい場所を右クリック　==>  検証を押す\n",
    "* それで取りたいデータのタグや属性を調べます。    \n",
    "* それを指定してほしいデータを取ります。"
   ]
  },
  {
   "cell_type": "code",
   "execution_count": 11,
   "metadata": {},
   "outputs": [
    {
     "data": {
      "text/plain": [
       "<div class=\"m-miH01C_cell m-miH01C_cell_col5\" data-id=\"JSID_JpnIndex\"><a href=\"/markets/worldidx/chart/nk225/\" title=\"9/14 15:15 大引\"><span class=\"m-miH01C_exchange\">日経平均</span><span class=\"m-miH01C_rate\">23,094.67</span><span class=\"m-miH01C_comparison plus\">+273.35</span></a></div>"
      ]
     },
     "execution_count": 11,
     "metadata": {},
     "output_type": "execute_result"
    }
   ],
   "source": [
    "bsobj.find('div', {'class':'m-miH01C_cell m-miH01C_cell_col5'})"
   ]
  },
  {
   "cell_type": "code",
   "execution_count": 12,
   "metadata": {},
   "outputs": [
    {
     "data": {
      "text/plain": [
       "[<div class=\"m-miH01C_cell m-miH01C_cell_col5\" data-id=\"JSID_JpnIndex\"><a href=\"/markets/worldidx/chart/nk225/\" title=\"9/14 15:15 大引\"><span class=\"m-miH01C_exchange\">日経平均</span><span class=\"m-miH01C_rate\">23,094.67</span><span class=\"m-miH01C_comparison plus\">+273.35</span></a></div>,\n",
       " <div class=\"m-miH01C_cell m-miH01C_cell_col5\" data-id=\"JSID_DowJones\"><a href=\"/markets/kaigai/\" title=\"9/13 17:30 終値\"><span class=\"m-miH01C_exchange\">NYダウ</span><span class=\"m-miH01C_rate\">26,145.99</span><span class=\"m-miH01C_comparison plus\">+147.07</span></a></div>,\n",
       " <div class=\"m-miH01C_cell m-miH01C_cell_col5\" data-id=\"JSID_YenDollarExchange\"><a href=\"/markets/kawase/\" title=\"9/14 17:05\"><span class=\"m-miH01C_exchange\">ドル円</span><span class=\"m-miH01C_rate\">111.84-85</span><span class=\"m-miH01C_comparison plus\">+0.37</span></a></div>,\n",
       " <div class=\"m-miH01C_cell m-miH01C_cell_col5\" data-id=\"JSID_NYCrudeOilRate\"><a href=\"/markets/shohin/\" title=\"9/14 4:00\"><span class=\"m-miH01C_exchange\">NY原油</span><span class=\"m-miH01C_rate\">69.10</span><span class=\"m-miH01C_comparison plus\">+0.51</span></a></div>,\n",
       " <div class=\"m-miH01C_cell m-miH01C_cell_col5\" data-id=\"JSID_JPNLongTermInterestRate\"><a href=\"/markets/kawase/page/?uah=DF_SEC8_C3_150\" title=\"9/14 15:58\"><span class=\"m-miH01C_exchange\">長期金利</span><span class=\"m-miH01C_rate\">0.110</span><span class=\"m-miH01C_comparison plus\">+0.005</span></a></div>]"
      ]
     },
     "execution_count": 12,
     "metadata": {},
     "output_type": "execute_result"
    }
   ],
   "source": [
    "bsobj.findAll('div', {'class':'m-miH01C_cell m-miH01C_cell_col5'})"
   ]
  },
  {
   "cell_type": "code",
   "execution_count": 13,
   "metadata": {},
   "outputs": [
    {
     "data": {
      "text/plain": [
       "'/markets/kawase/page/?uah=DF_SEC8_C3_150'"
      ]
     },
     "execution_count": 13,
     "metadata": {},
     "output_type": "execute_result"
    }
   ],
   "source": [
    "bsobj.findAll('div', {'class':'m-miH01C_cell m-miH01C_cell_col5'})[4].a['href']"
   ]
  },
  {
   "cell_type": "code",
   "execution_count": 14,
   "metadata": {},
   "outputs": [
    {
     "name": "stdout",
     "output_type": "stream",
     "text": [
      "https://www.nikkei.com//markets/kawase/page/?uah=DF_SEC8_C3_150\n"
     ]
    }
   ],
   "source": [
    "bond_url='https://www.nikkei.com/' + bsobj.findAll('div', {'class':'m-miH01C_cell'})[4].a['href']\n",
    "print(bond_url)"
   ]
  },
  {
   "cell_type": "markdown",
   "metadata": {},
   "source": [
    "<span style='color:red; font-size: 25px;'> spanが二つある場合、後ろにあるものをどうやって取るか分からなかったのでセレクターを変えて取った。2つ目を取る方法はあるか？</span>"
   ]
  },
  {
   "cell_type": "code",
   "execution_count": 15,
   "metadata": {},
   "outputs": [
    {
     "data": {
      "text/plain": [
       "<span class=\"m-miH01C_exchange\">長期金利</span>"
      ]
     },
     "execution_count": 15,
     "metadata": {},
     "output_type": "execute_result"
    }
   ],
   "source": [
    "bsobj.findAll('div', {'class':'m-miH01C_cell m-miH01C_cell_col5'})[4].span"
   ]
  },
  {
   "cell_type": "code",
   "execution_count": 16,
   "metadata": {},
   "outputs": [
    {
     "data": {
      "text/plain": [
       "<div class=\"m-miH01C_cell m-miH01C_cell_col5\" data-id=\"JSID_JPNLongTermInterestRate\"><a href=\"/markets/kawase/page/?uah=DF_SEC8_C3_150\" title=\"9/14 15:58\"><span class=\"m-miH01C_exchange\">長期金利</span><span class=\"m-miH01C_rate\">0.110</span><span class=\"m-miH01C_comparison plus\">+0.005</span></a></div>"
      ]
     },
     "execution_count": 16,
     "metadata": {},
     "output_type": "execute_result"
    }
   ],
   "source": [
    "bsobj.findAll('div', {'class':'m-miH01C_cell m-miH01C_cell_col5'})[4]"
   ]
  },
  {
   "cell_type": "code",
   "execution_count": 17,
   "metadata": {},
   "outputs": [
    {
     "data": {
      "text/plain": [
       "'0.110'"
      ]
     },
     "execution_count": 17,
     "metadata": {},
     "output_type": "execute_result"
    }
   ],
   "source": [
    "bsobj.findAll('span', {'class':'m-miH01C_rate'})[4].get_text()"
   ]
  },
  {
   "cell_type": "markdown",
   "metadata": {},
   "source": [
    "___    \n",
    "## 課題2\n",
    "\n",
    "#### 日経新聞のアクセスランキングのサイトから総合ランキングトップ10のニュースタイトル、ニュースのリンク、ニュースの日時を取りましょう。     \n",
    "https://www.nikkei.com/access/\n",
    "#### それを辞書に記録してみましょう。\n"
   ]
  },
  {
   "cell_type": "markdown",
   "metadata": {},
   "source": [
    "# 3. 使えるやつら！\n",
    "#### 3.1 try except\n",
    "* Pythonではエラーが起きたとき例外が実行されます\n",
    "* エラーが起きそうなところに例外処理を置いていておくと、エラーでクローラーが止まっていたというようなことがなくなります。"
   ]
  },
  {
   "cell_type": "code",
   "execution_count": 21,
   "metadata": {},
   "outputs": [
    {
     "name": "stdout",
     "output_type": "stream",
     "text": [
      "PAGE URL: https://www.nikkei.com/, HTTP STATUS: 200, PROCESS TIME: 0.065276, H1: \n",
      "1日 0:00更新\n",
      "-\n",
      "\n"
     ]
    },
    {
     "ename": "AttributeError",
     "evalue": "'NoneType' object has no attribute 'text'",
     "output_type": "error",
     "traceback": [
      "\u001b[1;31m---------------------------------------------------------------------------\u001b[0m",
      "\u001b[1;31mAttributeError\u001b[0m                            Traceback (most recent call last)",
      "\u001b[1;32m<ipython-input-21-fb266e0071a9>\u001b[0m in \u001b[0;36m<module>\u001b[1;34m()\u001b[0m\n\u001b[0;32m     13\u001b[0m     \u001b[0mres\u001b[0m \u001b[1;33m=\u001b[0m \u001b[0mrequests\u001b[0m\u001b[1;33m.\u001b[0m\u001b[0mget\u001b[0m\u001b[1;33m(\u001b[0m\u001b[0mpage_url\u001b[0m\u001b[1;33m,\u001b[0m \u001b[0mtimeout\u001b[0m\u001b[1;33m=\u001b[0m\u001b[1;36m5\u001b[0m\u001b[1;33m)\u001b[0m\u001b[1;33m\u001b[0m\u001b[0m\n\u001b[0;32m     14\u001b[0m     \u001b[0mbsobj\u001b[0m \u001b[1;33m=\u001b[0m \u001b[0mBeautifulSoup\u001b[0m\u001b[1;33m(\u001b[0m\u001b[0mres\u001b[0m\u001b[1;33m.\u001b[0m\u001b[0mtext\u001b[0m\u001b[1;33m,\u001b[0m \u001b[1;34m'lxml'\u001b[0m\u001b[1;33m)\u001b[0m\u001b[1;33m\u001b[0m\u001b[0m\n\u001b[1;32m---> 15\u001b[1;33m     \u001b[0mprint\u001b[0m\u001b[1;33m(\u001b[0m\u001b[1;34m'PAGE URL: {}, HTTP STATUS: {}, PROCESS TIME: {}, H1: {}'\u001b[0m\u001b[1;33m.\u001b[0m\u001b[0mformat\u001b[0m\u001b[1;33m(\u001b[0m\u001b[0mpage_url\u001b[0m\u001b[1;33m,\u001b[0m \u001b[0mres\u001b[0m\u001b[1;33m.\u001b[0m\u001b[0mstatus_code\u001b[0m\u001b[1;33m,\u001b[0m \u001b[0mres\u001b[0m\u001b[1;33m.\u001b[0m\u001b[0melapsed\u001b[0m\u001b[1;33m.\u001b[0m\u001b[0mtotal_seconds\u001b[0m\u001b[1;33m(\u001b[0m\u001b[1;33m)\u001b[0m\u001b[1;33m,\u001b[0m \u001b[0mbsobj\u001b[0m\u001b[1;33m.\u001b[0m\u001b[0mfind\u001b[0m\u001b[1;33m(\u001b[0m\u001b[1;34m'h2'\u001b[0m\u001b[1;33m)\u001b[0m\u001b[1;33m.\u001b[0m\u001b[0mtext\u001b[0m\u001b[1;33m)\u001b[0m\u001b[1;33m)\u001b[0m\u001b[1;33m\u001b[0m\u001b[0m\n\u001b[0m\u001b[0;32m     16\u001b[0m \u001b[1;33m\u001b[0m\u001b[0m\n\u001b[0;32m     17\u001b[0m     \u001b[0mtime\u001b[0m\u001b[1;33m.\u001b[0m\u001b[0msleep\u001b[0m\u001b[1;33m(\u001b[0m\u001b[1;36m1\u001b[0m\u001b[1;33m)\u001b[0m\u001b[1;33m\u001b[0m\u001b[0m\n",
      "\u001b[1;31mAttributeError\u001b[0m: 'NoneType' object has no attribute 'text'"
     ]
    }
   ],
   "source": [
    "import requests\n",
    "from bs4 import BeautifulSoup\n",
    "import time\n",
    "\n",
    "PAGE_URL_LIST = [\n",
    "    'https://www.nikkei.com/',\n",
    "    'https://www.nikkei.com/paper/',\n",
    "    'https://www.nikkeii.com/stocks/',\n",
    "    'https://www.nikkei.com/technology/'\n",
    "]\n",
    "\n",
    "for page_url in PAGE_URL_LIST:\n",
    "    res = requests.get(page_url, timeout=5)\n",
    "    bsobj = BeautifulSoup(res.text, 'lxml')\n",
    "    print('PAGE URL: {}, HTTP STATUS: {}, PROCESS TIME: {}, H1: {}'.format(page_url, res.status_code, res.elapsed.total_seconds(), bsobj.find('h2').text))\n",
    "    \n",
    "    time.sleep(1)"
   ]
  },
  {
   "cell_type": "code",
   "execution_count": 23,
   "metadata": {},
   "outputs": [
    {
     "name": "stdout",
     "output_type": "stream",
     "text": [
      "PAGE URL: https://www.nikkei.com/, HTTP STATUS: 200, PROCESS TIME: 0.067096, H2: \n",
      "クラウド、進むアマゾン・グーグル支配　かすむ日本勢［有料会員限定］\n",
      "[Something Wrong]: https://www.nikkei.com/paper/\n",
      "[Something Wrong]: https://www.nikkeii.com/stocks/\n",
      "PAGE URL: https://www.nikkei.com/technology/, HTTP STATUS: 200, PROCESS TIME: 1.32069, H2: 新iPhone最速レビュー　大画面でも片手操作が楽 ［映像あり］［有料会員限定］\n"
     ]
    }
   ],
   "source": [
    "PAGE_URL_LIST = [\n",
    "    'https://www.nikkei.com/',\n",
    "    'https://www.nikkei.com/paper/',\n",
    "    'https://www.nikkeii.com/stocks/',\n",
    "    'https://www.nikkei.com/technology/'\n",
    "]\n",
    "\n",
    "for page_url in PAGE_URL_LIST:\n",
    "    try:\n",
    "        res = requests.get(page_url, timeout=5)\n",
    "        bsobj = BeautifulSoup(res.text, 'lxml')\n",
    "        print('PAGE URL: {}, HTTP STATUS: {}, PROCESS TIME: {}, H2: {}'.format(page_url, res.status_code, res.elapsed.total_seconds(), bsobj.find('h3').text))\n",
    "    except:\n",
    "        print('[Something Wrong]: {}'.format(page_url))\n",
    "    \n",
    "    time.sleep(1)"
   ]
  },
  {
   "cell_type": "code",
   "execution_count": 26,
   "metadata": {},
   "outputs": [
    {
     "name": "stdout",
     "output_type": "stream",
     "text": [
      "ページURL: https://www.nikkei.com/, HTTPステータス: 200 , 処理時間: 0.069385, history: []\n",
      "ページURL: https://www.nikkei.com/paper/, HTTPステータス: 200 , 処理時間: 0.088843, history: [<Response [302]>]\n",
      "ページURL: https://www.nikkei.com/technology/, HTTPステータス: 200 , 処理時間: 1.306605, history: []\n"
     ]
    }
   ],
   "source": [
    "import time \n",
    "import requests\n",
    "\n",
    "PAGE_URL_LIST = [\n",
    "    'https://www.nikkei.com/',\n",
    "    'https://www.nikkei.com/paper/',\n",
    "    'https://www.nikkei.com/technology/'\n",
    "]\n",
    "\n",
    "for page_url in PAGE_URL_LIST:\n",
    "    res = requests.get(page_url, timeout=30)\n",
    "    print('ページURL: {}, HTTPステータス: {} , 処理時間: {}, history: {}'.format(page_url, res.status_code, res.elapsed.total_seconds(),res.history))\n",
    "    \n",
    "    time.sleep(1)\n",
    "    "
   ]
  },
  {
   "cell_type": "code",
   "execution_count": 29,
   "metadata": {},
   "outputs": [],
   "source": [
    "from logging import getLogger, Formatter, FileHandler, StreamHandler, DEBUG, ERROR\n",
    "import requests"
   ]
  },
  {
   "cell_type": "code",
   "execution_count": 35,
   "metadata": {},
   "outputs": [],
   "source": [
    "# ロガー: __name__ には実行モジュール名 logging_sample が入ります\n",
    "logger = getLogger(__name__)\n",
    "\n",
    "# 出力フォーマット\n",
    "default_format = '[%(levelname)s] %(asctime)s %(name)s %(filename)s:%(lineno)d %(message)s'\n",
    "default_formatter = Formatter(default_format)\n",
    "funcname_formatter = Formatter(default_format + ' (%(funcName)s)')\n",
    "\n",
    "# ログ用ハンドラー: コンソール出力用\n",
    "log_stream_handler = StreamHandler()\n",
    "log_stream_handler.setFormatter(default_formatter)\n",
    "log_stream_handler.setLevel(DEBUG)\n",
    "\n",
    "# ログ用ハンドラー: ファイル出力用\n",
    "log_file_handler = FileHandler(filename=\"crawler.log\")\n",
    "log_file_handler.setFormatter(funcname_formatter)\n",
    "log_file_handler.setLevel(ERROR)\n",
    "\n",
    "# ロガーにハンドラーとレベルをセット\n",
    "logger.setLevel(DEBUG)\n",
    "logger.addHandler(log_stream_handler)\n",
    "logger.addHandler(log_file_handler)\n",
    "\n",
    "\n",
    "def logging_example():\n",
    "    logger.info('クロールを開始します.')\n",
    "    logger.warning('外部サイトのリンクのためクロールしません.')\n",
    "    logger.error('ページが見つかりませんでした')\n",
    "\n",
    "    try:\n",
    "        r = requests.get('https://www.nikkei.com', timeout=1)\n",
    "    except requests.exceptions.RequestException as e:\n",
    "        logger.exception('リクエスト中に例外が起きました: %r', e)\n",
    "\n",
    "\n"
   ]
  },
  {
   "cell_type": "code",
   "execution_count": 36,
   "metadata": {},
   "outputs": [
    {
     "name": "stderr",
     "output_type": "stream",
     "text": [
      "[INFO] 2018-09-18 23:17:47,756 __main__ <ipython-input-35-0f8ab89d9fa8>:26 クロールを開始します.\n",
      "[INFO] 2018-09-18 23:17:47,756 __main__ <ipython-input-35-0f8ab89d9fa8>:26 クロールを開始します.\n",
      "[INFO] 2018-09-18 23:17:47,756 __main__ <ipython-input-35-0f8ab89d9fa8>:26 クロールを開始します.\n",
      "[INFO] 2018-09-18 23:17:47,756 __main__ <ipython-input-35-0f8ab89d9fa8>:26 クロールを開始します.\n",
      "[INFO] 2018-09-18 23:17:47,756 __main__ <ipython-input-35-0f8ab89d9fa8>:26 クロールを開始します.\n",
      "[WARNING] 2018-09-18 23:17:47,760 __main__ <ipython-input-35-0f8ab89d9fa8>:27 外部サイトのリンクのためクロールしません.\n",
      "[WARNING] 2018-09-18 23:17:47,760 __main__ <ipython-input-35-0f8ab89d9fa8>:27 外部サイトのリンクのためクロールしません.\n",
      "[WARNING] 2018-09-18 23:17:47,760 __main__ <ipython-input-35-0f8ab89d9fa8>:27 外部サイトのリンクのためクロールしません.\n",
      "[WARNING] 2018-09-18 23:17:47,760 __main__ <ipython-input-35-0f8ab89d9fa8>:27 外部サイトのリンクのためクロールしません.\n",
      "[WARNING] 2018-09-18 23:17:47,760 __main__ <ipython-input-35-0f8ab89d9fa8>:27 外部サイトのリンクのためクロールしません.\n",
      "[ERROR] 2018-09-18 23:17:47,763 __main__ <ipython-input-35-0f8ab89d9fa8>:28 ページが見つかりませんでした\n",
      "[ERROR] 2018-09-18 23:17:47,763 __main__ <ipython-input-35-0f8ab89d9fa8>:28 ページが見つかりませんでした\n",
      "[ERROR] 2018-09-18 23:17:47,763 __main__ <ipython-input-35-0f8ab89d9fa8>:28 ページが見つかりませんでした\n",
      "[ERROR] 2018-09-18 23:17:47,763 __main__ <ipython-input-35-0f8ab89d9fa8>:28 ページが見つかりませんでした\n",
      "[ERROR] 2018-09-18 23:17:47,763 __main__ <ipython-input-35-0f8ab89d9fa8>:28 ページが見つかりませんでした\n"
     ]
    }
   ],
   "source": [
    "logging_example()"
   ]
  },
  {
   "cell_type": "code",
   "execution_count": null,
   "metadata": {},
   "outputs": [],
   "source": []
  }
 ],
 "metadata": {
  "kernelspec": {
   "display_name": "Python 3",
   "language": "python",
   "name": "python3"
  },
  "language_info": {
   "codemirror_mode": {
    "name": "ipython",
    "version": 3
   },
   "file_extension": ".py",
   "mimetype": "text/x-python",
   "name": "python",
   "nbconvert_exporter": "python",
   "pygments_lexer": "ipython3",
   "version": "3.6.5"
  }
 },
 "nbformat": 4,
 "nbformat_minor": 2
}
