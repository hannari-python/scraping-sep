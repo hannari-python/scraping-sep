{
 "cells": [
  {
   "cell_type": "markdown",
   "metadata": {},
   "source": [
    "# はんなりPython #9\n",
    "\n",
    "# 今日はみんなでスクレイピングしてみましょう！\n",
    "\n",
    "* ライブラリ：　requests, BeautifulSoup4, Pandas, time\n",
    "* とりあえずやってみましょう"
   ]
  },
  {
   "cell_type": "markdown",
   "metadata": {},
   "source": [
    "# 1.まずはAPIを使ってみましょう！\n",
    "* 色々なテクニックを使ってデータを取得する前に、APIを探してみましょう。     \n",
    "* もしAPIがあるなら、そこから簡単にデータが取れ、苦労する必要はありません。     \n",
    "* まずは<span style='color: red; font-size: 20px;'>ライブラリrequests</span>を使って、仮想通貨取引所zaifのapiを使ってみます。     \n",
    "* requestsのサイト(quickstart): http://docs.python-requests.org/en/master/user/quickstart/\n",
    "* zaifのAPIのサイト: https://corp.zaif.jp/api-docs/　       \n"
   ]
  },
  {
   "cell_type": "code",
   "execution_count": 1,
   "metadata": {},
   "outputs": [
    {
     "data": {
      "text/plain": [
       "200"
      ]
     },
     "execution_count": 1,
     "metadata": {},
     "output_type": "execute_result"
    }
   ],
   "source": [
    "# まずはライブラリをインポートします\n",
    "import requests\n",
    "# APIを叩きます\n",
    "r = requests.get('https://api.zaif.jp/api/1/last_price/btc_jpy')\n",
    "# APIからの反応を見ます\n",
    "r.status_code"
   ]
  },
  {
   "cell_type": "markdown",
   "metadata": {},
   "source": [
    "## HTTPステータスコード\n",
    "* wikipedia https://ja.wikipedia.org/wiki/HTTP%E3%82%B9%E3%83%86%E3%83%BC%E3%82%BF%E3%82%B9%E3%82%B3%E3%83%BC%E3%83%89      \n",
    "* 2xxなら成功です！！！"
   ]
  },
  {
   "cell_type": "code",
   "execution_count": 2,
   "metadata": {},
   "outputs": [
    {
     "data": {
      "text/plain": [
       "'{\"last_price\": 715000.0}'"
      ]
     },
     "execution_count": 2,
     "metadata": {},
     "output_type": "execute_result"
    }
   ],
   "source": [
    "# とりあえず中身を見る場合textを！！！！\n",
    "r.text"
   ]
  },
  {
   "cell_type": "code",
   "execution_count": 3,
   "metadata": {},
   "outputs": [
    {
     "data": {
      "text/plain": [
       "'application/json'"
      ]
     },
     "execution_count": 3,
     "metadata": {},
     "output_type": "execute_result"
    }
   ],
   "source": [
    "r.headers['content-type']"
   ]
  },
  {
   "cell_type": "code",
   "execution_count": 4,
   "metadata": {},
   "outputs": [
    {
     "data": {
      "text/plain": [
       "{'last_price': 715000.0}"
      ]
     },
     "execution_count": 4,
     "metadata": {},
     "output_type": "execute_result"
    }
   ],
   "source": [
    "r.json()"
   ]
  },
  {
   "cell_type": "code",
   "execution_count": 5,
   "metadata": {},
   "outputs": [
    {
     "data": {
      "text/plain": [
       "715000.0"
      ]
     },
     "execution_count": 5,
     "metadata": {},
     "output_type": "execute_result"
    }
   ],
   "source": [
    "# 価格データだけを取る\n",
    "r.json()['last_price']"
   ]
  },
  {
   "cell_type": "code",
   "execution_count": 6,
   "metadata": {},
   "outputs": [],
   "source": [
    "# 一秒おきにデータを取ってリストに入れる\n",
    "\n",
    "import time\n",
    "\n",
    "price = []\n",
    "for t in range(10):\n",
    "    r = requests.get('https://api.zaif.jp/api/1/last_price/btc_jpy')\n",
    "    price.append(r.json()['last_price'])\n",
    "    time.sleep(1)"
   ]
  },
  {
   "cell_type": "code",
   "execution_count": 7,
   "metadata": {},
   "outputs": [
    {
     "name": "stdout",
     "output_type": "stream",
     "text": [
      "[715000.0, 715000.0, 715000.0, 714945.0, 714940.0, 714940.0, 714925.0, 714925.0, 714955.0, 714920.0]\n"
     ]
    }
   ],
   "source": [
    "print(price)"
   ]
  },
  {
   "cell_type": "code",
   "execution_count": 8,
   "metadata": {},
   "outputs": [
    {
     "data": {
      "text/plain": [
       "<matplotlib.axes._subplots.AxesSubplot at 0x2391c454470>"
      ]
     },
     "execution_count": 8,
     "metadata": {},
     "output_type": "execute_result"
    },
    {
     "data": {
      "image/png": "[encoded data removed]",
      "text/plain": [
       "<Figure size 432x288 with 1 Axes>"
      ]
     },
     "metadata": {},
     "output_type": "display_data"
    }
   ],
   "source": [
    "import pandas as pd\n",
    "%matplotlib inline\n",
    "pd.Series(price).plot()"
   ]
  },
  {
   "cell_type": "markdown",
   "metadata": {},
   "source": [
    "___     \n",
    "## 課題１\n",
    "### zaifのAPIを使って、btc_jpyのtickerのデータを取ってみましょう。     \n",
    "https://corp.zaif.jp/api-docs/　\n",
    "### 取れたら\"volume\"のデータを抜き出しましょう。     \n",
    "### 次に何秒間かのデータを作り、グラフを作ってみましょう！\n",
    "___     "
   ]
  },
  {
   "cell_type": "markdown",
   "metadata": {},
   "source": [
    "___    \n",
    "\n",
    "# 2.1. 色々なページを徘徊させるその前に！\n",
    "## 参考にしたサイト、本\n",
    "* Stimulator Webスクレイピングする際のルールとPythonによる規約の読み込み     \n",
    "https://vaaaaaanquish.hatenablog.com/entry/2017/12/01/064227      \n",
    "* PythonによるWebスクレイピング       \n",
    "https://www.oreilly.co.jp/books/9784873117614/      \n",
    "\n",
    "### 駄目って言われていないか確認しよう！\n",
    "* 著作権法、動産不法侵入ってのが適用されるみたいです。\n",
    "* 著作権法はデータをそのまま公開しなければよいのかもしれない。     \n",
    "<br>\n",
    "\n",
    "#### Webスクレイピングが動産不法侵入に当たるのは次の3つの基準に違反した場合     　\n",
    "\n",
    "1. 同意の欠如 / サ―ビス規約でスクレイパーの使用を特定的に禁止している場合      \n",
    "2. 実害 / サーバをダウンさせたり、他のユーザーへのサービス能力を限定したりすると、害になる。     \n",
    "3. 意図性 / コードを書いたなら何をするか分かっているはず。     \n",
    "     \n",
    "#### コンピューター犯罪取締法\n",
    "1. 米国政府が所有するコンピュータへ故意に無権限でアクセスして情報を取得すること。\n",
    "2. コンピュータに故意に無権限でアクセスして、金銭情報を得ること。\n",
    "3. 米国政府が所有するコンピュータへ故意に無権限でアクセスして政府によるコンピュータ利用に影響を及ぼすこと。\n",
    "4. 詐取目的で保護されたコンピュータ（protected computer）に故意に無権限でアクセスすること。\n",
    "5. 故意に無権限でコンピュータにアクセスして当該コンピュータに損害を与えること。\n",
    "6. 米国政府が使うコンピュータまたは州間あるいは国際取引に関係するコンピュータのパスワードあるいは認証情報を取得または不正取引すること。\n",
    "7. 金銭もしくは「一切の有価物」を、保護されたコンピュータに対して損害を与えるもしくは損害を与えると脅すことによって強奪しようと試みること。\n",
    "<br>\n",
    "これはアメリカで日本ではもっと違うとの話もあり。\n",
    "\n",
    "#### robot.txtとメタタグを確認する\n",
    "* URLに/robots.txtを足すと、クローラーに対するサイトからの制限が見られる。     \n",
    "* 書き方などに決まりはないものの、基本的にこれを守ればよい。     \n",
    "* 検索エンジンのクローラー向け指示。     \n",
    "* でも法律的なものではないので・・・     \n",
    "* aタグのrelのnofollowチェック　==> あったら基本的にスクレイピング禁止    \n",
    "* metaタグのnofollow、noindex、noarchive等もダメ！     \n",
    "<br>\n",
    "* グーグルによる表示の解説 / https://developers.google.com/search/reference/robots_meta_tag    \n",
    "* https://www.nikkei.com/robots.txt      \n",
    "* https://github.com/robots.txt     \n",
    "* https://www.yahoo.co.jp/    \n",
    "     \n",
    "### ゆっくりやろう！\n",
    "* いまのPCはスペック高いので本気でクローラーが走ると、サーバーへの負荷が半端ない     \n",
    "* だからゆっくりやろう    \n",
    "* 1秒に一回が目安とか言われるが、サイトによります。     \n",
    "* HTTPのステータスコードも確認していたらよいのかなー。  "
   ]
  },
  {
   "cell_type": "markdown",
   "metadata": {},
   "source": [
    "___     \n",
    "# 2.2 WEBサイトからデータを取る\n",
    "### APIがない場合はWEBサイトからデータを集めないといけなくなります\n",
    "### 今回は日経新聞のウェブから日本の10年金利とそのサイトへのリンクを取ります。"
   ]
  },
  {
   "cell_type": "code",
   "execution_count": 9,
   "metadata": {},
   "outputs": [],
   "source": [
    "from bs4 import BeautifulSoup"
   ]
  },
  {
   "cell_type": "code",
   "execution_count": 10,
   "metadata": {},
   "outputs": [],
   "source": [
    "# 適当なサイトから目標とする値を取ってみる\n",
    "r = requests.get('https://www.nikkei.com/')\n",
    "\n",
    "bsobj = BeautifulSoup(r.text, 'lxml')\n",
    "# パーサーの話： https://www.crummy.com/software/BeautifulSoup/bs4/doc/#installing-a-parser"
   ]
  },
  {
   "cell_type": "markdown",
   "metadata": {},
   "source": [
    "## これでウェブページの全体が読み込まれました！\n",
    "\n",
    "## 次に取りたい場所をクロームで調べましょう！      \n",
    "* やり方　==>  取りたい場所を右クリック　==>  検証を押す\n",
    "* それで取りたいデータのタグや属性を調べます。    \n",
    "* それを指定してほしいデータを取ります。"
   ]
  },
  {
   "cell_type": "code",
   "execution_count": 11,
   "metadata": {},
   "outputs": [
    {
     "data": {
      "text/plain": [
       "<div class=\"m-miH01C_cell m-miH01C_cell_col5\" data-id=\"JSID_JpnIndex\"><a href=\"/markets/worldidx/chart/nk225/\" title=\"9/21 9:24 \"><span class=\"m-miH01C_exchange\">日経平均</span><span class=\"m-miH01C_rate\">23,827.78</span><span class=\"m-miH01C_comparison plus\">+152.85</span></a></div>"
      ]
     },
     "execution_count": 11,
     "metadata": {},
     "output_type": "execute_result"
    }
   ],
   "source": [
    "bsobj.find('div', {'class':'m-miH01C_cell m-miH01C_cell_col5'})"
   ]
  },
  {
   "cell_type": "code",
   "execution_count": 12,
   "metadata": {},
   "outputs": [
    {
     "data": {
      "text/plain": [
       "[<div class=\"m-miH01C_cell m-miH01C_cell_col5\" data-id=\"JSID_JpnIndex\"><a href=\"/markets/worldidx/chart/nk225/\" title=\"9/21 9:24 \"><span class=\"m-miH01C_exchange\">日経平均</span><span class=\"m-miH01C_rate\">23,827.78</span><span class=\"m-miH01C_comparison plus\">+152.85</span></a></div>,\n",
       " <div class=\"m-miH01C_cell m-miH01C_cell_col5\" data-id=\"JSID_DowJones\"><a href=\"/markets/kaigai/\" title=\"9/20 17:20 終値\"><span class=\"m-miH01C_exchange\">NYダウ</span><span class=\"m-miH01C_rate\">26,656.98</span><span class=\"m-miH01C_comparison plus\">+251.22</span></a></div>,\n",
       " <div class=\"m-miH01C_cell m-miH01C_cell_col5\" data-id=\"JSID_YenDollarExchange\"><a href=\"/markets/kawase/\" title=\"9/21 9:19\"><span class=\"m-miH01C_exchange\">ドル円</span><span class=\"m-miH01C_rate\">112.48-49</span><span class=\"m-miH01C_comparison plus\">+0.28</span></a></div>,\n",
       " <div class=\"m-miH01C_cell m-miH01C_cell_col5\" data-id=\"JSID_NYCrudeOilRate\"><a href=\"/markets/shohin/\" title=\"9/20 20:14\"><span class=\"m-miH01C_exchange\">NY原油</span><span class=\"m-miH01C_rate\">70.21</span><span class=\"m-miH01C_comparison minus\">-0.11</span></a></div>,\n",
       " <div class=\"m-miH01C_cell m-miH01C_cell_col5\" data-id=\"JSID_JPNLongTermInterestRate\"><a href=\"/markets/kawase/page/?uah=DF_SEC8_C3_150\" title=\"--\"><span class=\"m-miH01C_exchange\">長期金利</span><span class=\"m-miH01C_rate\">--</span><span class=\"m-miH01C_comparison stay\">--</span></a></div>]"
      ]
     },
     "execution_count": 12,
     "metadata": {},
     "output_type": "execute_result"
    }
   ],
   "source": [
    "bsobj.findAll('div', {'class':'m-miH01C_cell m-miH01C_cell_col5'})"
   ]
  },
  {
   "cell_type": "code",
   "execution_count": 13,
   "metadata": {},
   "outputs": [
    {
     "data": {
      "text/plain": [
       "'/markets/kawase/page/?uah=DF_SEC8_C3_150'"
      ]
     },
     "execution_count": 13,
     "metadata": {},
     "output_type": "execute_result"
    }
   ],
   "source": [
    "bsobj.findAll('div', {'class':'m-miH01C_cell m-miH01C_cell_col5'})[4].a['href']"
   ]
  },
  {
   "cell_type": "code",
   "execution_count": 14,
   "metadata": {},
   "outputs": [
    {
     "name": "stdout",
     "output_type": "stream",
     "text": [
      "https://www.nikkei.com//markets/kawase/page/?uah=DF_SEC8_C3_150\n"
     ]
    }
   ],
   "source": [
    "bond_url='https://www.nikkei.com/' + bsobj.findAll('div', {'class':'m-miH01C_cell'})[4].a['href']\n",
    "print(bond_url)"
   ]
  },
  {
   "cell_type": "markdown",
   "metadata": {},
   "source": [
    "<span style='color:red; font-size: 25px;'> spanが二つある場合、後ろにあるものをどうやって取るか分からなかったのでセレクターを変えて取った。2つ目を取る方法はあるか？</span>"
   ]
  },
  {
   "cell_type": "code",
   "execution_count": 15,
   "metadata": {},
   "outputs": [
    {
     "data": {
      "text/plain": [
       "<span class=\"m-miH01C_exchange\">長期金利</span>"
      ]
     },
     "execution_count": 15,
     "metadata": {},
     "output_type": "execute_result"
    }
   ],
   "source": [
    "bsobj.findAll('div', {'class':'m-miH01C_cell m-miH01C_cell_col5'})[4].span"
   ]
  },
  {
   "cell_type": "code",
   "execution_count": 16,
   "metadata": {},
   "outputs": [
    {
     "data": {
      "text/plain": [
       "<div class=\"m-miH01C_cell m-miH01C_cell_col5\" data-id=\"JSID_JPNLongTermInterestRate\"><a href=\"/markets/kawase/page/?uah=DF_SEC8_C3_150\" title=\"--\"><span class=\"m-miH01C_exchange\">長期金利</span><span class=\"m-miH01C_rate\">--</span><span class=\"m-miH01C_comparison stay\">--</span></a></div>"
      ]
     },
     "execution_count": 16,
     "metadata": {},
     "output_type": "execute_result"
    }
   ],
   "source": [
    "bsobj.findAll('div', {'class':'m-miH01C_cell m-miH01C_cell_col5'})[4]"
   ]
  },
  {
   "cell_type": "code",
   "execution_count": 17,
   "metadata": {},
   "outputs": [
    {
     "data": {
      "text/plain": [
       "'--'"
      ]
     },
     "execution_count": 17,
     "metadata": {},
     "output_type": "execute_result"
    }
   ],
   "source": [
    "bsobj.findAll('span', {'class':'m-miH01C_rate'})[4].get_text()"
   ]
  },
  {
   "cell_type": "markdown",
   "metadata": {},
   "source": [
    "___    \n",
    "## 課題2\n",
    "\n",
    "#### 日経新聞のアクセスランキングのサイトから総合ランキングトップ10のニュースタイトル、ニュースのリンク、ニュースの日時を取りましょう。     \n",
    "https://www.nikkei.com/access/\n",
    "#### それを辞書に記録してみましょう。\n"
   ]
  },
  {
   "cell_type": "markdown",
   "metadata": {},
   "source": [
    "# 3. 実行その前に\n",
    "#### 3.1 try except\n",
    "* Pythonではエラーが起きたとき例外が実行されます\n",
    "* エラーが起きそうなところに例外処理を置いていておくと、エラーでクローラーが止まっていたというようなことがなくなります。"
   ]
  },
  {
   "cell_type": "code",
   "execution_count": 18,
   "metadata": {},
   "outputs": [
    {
     "name": "stdout",
     "output_type": "stream",
     "text": [
      "PAGE URL: https://www.nikkei.com/, HTTP STATUS: 200, PROCESS TIME: 0.069031, H1: \n",
      "1日 0:00更新\n",
      "-\n",
      "\n"
     ]
    },
    {
     "ename": "AttributeError",
     "evalue": "'NoneType' object has no attribute 'text'",
     "output_type": "error",
     "traceback": [
      "\u001b[1;31m---------------------------------------------------------------------------\u001b[0m",
      "\u001b[1;31mAttributeError\u001b[0m                            Traceback (most recent call last)",
      "\u001b[1;32m<ipython-input-18-fb266e0071a9>\u001b[0m in \u001b[0;36m<module>\u001b[1;34m()\u001b[0m\n\u001b[0;32m     13\u001b[0m     \u001b[0mres\u001b[0m \u001b[1;33m=\u001b[0m \u001b[0mrequests\u001b[0m\u001b[1;33m.\u001b[0m\u001b[0mget\u001b[0m\u001b[1;33m(\u001b[0m\u001b[0mpage_url\u001b[0m\u001b[1;33m,\u001b[0m \u001b[0mtimeout\u001b[0m\u001b[1;33m=\u001b[0m\u001b[1;36m5\u001b[0m\u001b[1;33m)\u001b[0m\u001b[1;33m\u001b[0m\u001b[0m\n\u001b[0;32m     14\u001b[0m     \u001b[0mbsobj\u001b[0m \u001b[1;33m=\u001b[0m \u001b[0mBeautifulSoup\u001b[0m\u001b[1;33m(\u001b[0m\u001b[0mres\u001b[0m\u001b[1;33m.\u001b[0m\u001b[0mtext\u001b[0m\u001b[1;33m,\u001b[0m \u001b[1;34m'lxml'\u001b[0m\u001b[1;33m)\u001b[0m\u001b[1;33m\u001b[0m\u001b[0m\n\u001b[1;32m---> 15\u001b[1;33m     \u001b[0mprint\u001b[0m\u001b[1;33m(\u001b[0m\u001b[1;34m'PAGE URL: {}, HTTP STATUS: {}, PROCESS TIME: {}, H1: {}'\u001b[0m\u001b[1;33m.\u001b[0m\u001b[0mformat\u001b[0m\u001b[1;33m(\u001b[0m\u001b[0mpage_url\u001b[0m\u001b[1;33m,\u001b[0m \u001b[0mres\u001b[0m\u001b[1;33m.\u001b[0m\u001b[0mstatus_code\u001b[0m\u001b[1;33m,\u001b[0m \u001b[0mres\u001b[0m\u001b[1;33m.\u001b[0m\u001b[0melapsed\u001b[0m\u001b[1;33m.\u001b[0m\u001b[0mtotal_seconds\u001b[0m\u001b[1;33m(\u001b[0m\u001b[1;33m)\u001b[0m\u001b[1;33m,\u001b[0m \u001b[0mbsobj\u001b[0m\u001b[1;33m.\u001b[0m\u001b[0mfind\u001b[0m\u001b[1;33m(\u001b[0m\u001b[1;34m'h2'\u001b[0m\u001b[1;33m)\u001b[0m\u001b[1;33m.\u001b[0m\u001b[0mtext\u001b[0m\u001b[1;33m)\u001b[0m\u001b[1;33m)\u001b[0m\u001b[1;33m\u001b[0m\u001b[0m\n\u001b[0m\u001b[0;32m     16\u001b[0m \u001b[1;33m\u001b[0m\u001b[0m\n\u001b[0;32m     17\u001b[0m     \u001b[0mtime\u001b[0m\u001b[1;33m.\u001b[0m\u001b[0msleep\u001b[0m\u001b[1;33m(\u001b[0m\u001b[1;36m1\u001b[0m\u001b[1;33m)\u001b[0m\u001b[1;33m\u001b[0m\u001b[0m\n",
      "\u001b[1;31mAttributeError\u001b[0m: 'NoneType' object has no attribute 'text'"
     ]
    }
   ],
   "source": [
    "import requests\n",
    "from bs4 import BeautifulSoup\n",
    "import time\n",
    "\n",
    "PAGE_URL_LIST = [\n",
    "    'https://www.nikkei.com/',\n",
    "    'https://www.nikkei.com/paper/',\n",
    "    'https://www.nikkeii.com/stocks/',\n",
    "    'https://www.nikkei.com/technology/'\n",
    "]\n",
    "\n",
    "for page_url in PAGE_URL_LIST:\n",
    "    res = requests.get(page_url, timeout=5)\n",
    "    bsobj = BeautifulSoup(res.text, 'lxml')\n",
    "    print('PAGE URL: {}, HTTP STATUS: {}, PROCESS TIME: {}, H1: {}'.format(page_url, res.status_code, res.elapsed.total_seconds(), bsobj.find('h2').text))\n",
    "    \n",
    "    time.sleep(1)"
   ]
  },
  {
   "cell_type": "code",
   "execution_count": 26,
   "metadata": {},
   "outputs": [
    {
     "name": "stdout",
     "output_type": "stream",
     "text": [
      "PAGE URL: https://www.nikkei.com/, HTTP STATUS: 200, PROCESS TIME: 0.084794, H1: \n",
      "1日 0:00更新\n",
      "-\n",
      "\n",
      "PAGE URL: https://www.nikkei.com/technology/, HTTP STATUS: 200, PROCESS TIME: 0.102749, H1: \n",
      "1日 0:00更新\n",
      "-\n",
      "\n"
     ]
    }
   ],
   "source": [
    "import requests\n",
    "from bs4 import BeautifulSoup\n",
    "import time\n",
    "\n",
    "PAGE_URL_LIST = [\n",
    "    'https://www.nikkei.com/',\n",
    "    'https://www.nikkei.com/paper/',\n",
    "    'https://www.nikkeii.com/stocks/',\n",
    "    'https://www.nikkei.com/technology/'\n",
    "]\n",
    "\n",
    "for page_url in PAGE_URL_LIST:\n",
    "    try:\n",
    "        res = requests.get(page_url, timeout=5)\n",
    "        bsobj = BeautifulSoup(res.text, 'lxml')\n",
    "        print('PAGE URL: {}, HTTP STATUS: {}, PROCESS TIME: {}, H1: {}'.format(page_url, res.status_code, res.elapsed.total_seconds(), bsobj.find('h2').text))\n",
    "    except:\n",
    "        pass\n",
    "    time.sleep(1)"
   ]
  },
  {
   "cell_type": "code",
   "execution_count": 27,
   "metadata": {},
   "outputs": [
    {
     "name": "stdout",
     "output_type": "stream",
     "text": [
      "PAGE URL: https://www.nikkei.com/, HTTP STATUS: 200, PROCESS TIME: 0.077925, H2: \n",
      "関空、旅客便通常ダイヤに　第１ターミナル全面再開\n",
      "[Something Wrong]: https://www.nikkei.com/paper/\n",
      "[Something Wrong]: https://www.nikkeii.com/stocks/\n",
      "PAGE URL: https://www.nikkei.com/technology/, HTTP STATUS: 200, PROCESS TIME: 0.09998, H2: 記号は不要　推奨するパスワード、方針転換の理由 ［有料会員限定］\n"
     ]
    }
   ],
   "source": [
    "PAGE_URL_LIST = [\n",
    "    'https://www.nikkei.com/',\n",
    "    'https://www.nikkei.com/paper/',\n",
    "    'https://www.nikkeii.com/stocks/',\n",
    "    'https://www.nikkei.com/technology/'\n",
    "]\n",
    "\n",
    "for page_url in PAGE_URL_LIST:\n",
    "    try:\n",
    "        res = requests.get(page_url, timeout=5)\n",
    "        bsobj = BeautifulSoup(res.text, 'lxml')\n",
    "        print('PAGE URL: {}, HTTP STATUS: {}, PROCESS TIME: {}, H2: {}'.format(page_url, res.status_code, res.elapsed.total_seconds(), bsobj.find('h3').text))\n",
    "    except:\n",
    "        print('[Something Wrong]: {}'.format(page_url))\n",
    "    \n",
    "    time.sleep(1)"
   ]
  },
  {
   "cell_type": "code",
   "execution_count": 28,
   "metadata": {},
   "outputs": [
    {
     "name": "stdout",
     "output_type": "stream",
     "text": [
      "PAGE URL: https://www.nikkei.com/, HTTP STATUS: 200, PROCESS TIME: 0.081588, H2: \n",
      "関空、旅客便通常ダイヤに　第１ターミナル全面再開\n",
      "'NoneType' object has no attribute 'text': https://www.nikkei.com/paper/\n",
      "ERROR : https://www.nikkeii.com/stocks/\n",
      "PAGE URL: https://www.nikkei.com/technology/, HTTP STATUS: 200, PROCESS TIME: 0.094857, H2: 記号は不要　推奨するパスワード、方針転換の理由 ［有料会員限定］\n"
     ]
    }
   ],
   "source": [
    "PAGE_URL_LIST = [\n",
    "    'https://www.nikkei.com/',\n",
    "    'https://www.nikkei.com/paper/',\n",
    "    'https://www.nikkeii.com/stocks/',\n",
    "    'https://www.nikkei.com/technology/'\n",
    "]\n",
    "\n",
    "for page_url in PAGE_URL_LIST:\n",
    "    try:\n",
    "        res = requests.get(page_url, timeout=5)\n",
    "        bsobj = BeautifulSoup(res.text, 'lxml')\n",
    "        print('PAGE URL: {}, HTTP STATUS: {}, PROCESS TIME: {}, H2: {}'.format(page_url, res.status_code, res.elapsed.total_seconds(), bsobj.find('h3').text))\n",
    "    except AttributeError as e:\n",
    "        print('{}: {}'.format(e, page_url))\n",
    "\n",
    "    except:\n",
    "        print('ERROR : {}'.format(page_url))\n",
    "    \n",
    "    time.sleep(1)"
   ]
  },
  {
   "cell_type": "markdown",
   "metadata": {},
   "source": [
    "### 3.2 requests-html\n",
    "* JavaScriptをサポート！！！     \n",
    "https://html.python-requests.org/　　　　　\n",
    "* でもjupyterではできないっぽい       \n",
    "https://github.com/kennethreitz/requests-html/issues/173     \n",
    "* Pycon2018の「Python出始めるウェブスクレイピング実践入門」で知る       \n",
    "https://speakerdeck.com/sin_tanaka_21/pythondeshi-meruuebusukureipingushi-jian-ru-men?slide=1     \n",
    "* 該当部分     \n",
    "https://speakerdeck.com/sin_tanaka_21/pythondeshi-meruuebusukureipingushi-jian-ru-men?slide=70     \n",
    "* requestsの作者の人が作ってる\n",
    "* 普通のスクレイピングもrequests-htmlだけでできるのもポイント高いかも。      "
   ]
  },
  {
   "cell_type": "code",
   "execution_count": 29,
   "metadata": {},
   "outputs": [
    {
     "name": "stdout",
     "output_type": "stream",
     "text": [
      "[]\n"
     ]
    }
   ],
   "source": [
    "from requests_html import HTMLSession\n",
    "session = HTMLSession()\n",
    "resp = session.get('https://pycon.jp/2018/event/sessions')\n",
    "sel = '.session-summary h3'\n",
    "\n",
    "elems = resp.html.find(sel)\n",
    "\n",
    "print([i.text for i in elems])"
   ]
  },
  {
   "cell_type": "code",
   "execution_count": 30,
   "metadata": {},
   "outputs": [
    {
     "name": "stdout",
     "output_type": "stream",
     "text": [
      "False\n"
     ]
    }
   ],
   "source": [
    "print('Atsushi Fukui' in resp.html.find('body', first=True).text)"
   ]
  },
  {
   "cell_type": "code",
   "execution_count": 31,
   "metadata": {},
   "outputs": [
    {
     "ename": "RuntimeError",
     "evalue": "This event loop is already running",
     "output_type": "error",
     "traceback": [
      "\u001b[1;31m---------------------------------------------------------------------------\u001b[0m",
      "\u001b[1;31mRuntimeError\u001b[0m                              Traceback (most recent call last)",
      "\u001b[1;32m<ipython-input-31-a32dce9ef327>\u001b[0m in \u001b[0;36m<module>\u001b[1;34m()\u001b[0m\n\u001b[0;32m      1\u001b[0m \u001b[0msession\u001b[0m \u001b[1;33m=\u001b[0m \u001b[0mHTMLSession\u001b[0m\u001b[1;33m(\u001b[0m\u001b[1;33m)\u001b[0m\u001b[1;33m\u001b[0m\u001b[0m\n\u001b[0;32m      2\u001b[0m \u001b[0mr\u001b[0m \u001b[1;33m=\u001b[0m \u001b[0msession\u001b[0m\u001b[1;33m.\u001b[0m\u001b[0mget\u001b[0m\u001b[1;33m(\u001b[0m\u001b[1;34m'https://pycon.jp/2018/event/sessions'\u001b[0m\u001b[1;33m)\u001b[0m\u001b[1;33m\u001b[0m\u001b[0m\n\u001b[1;32m----> 3\u001b[1;33m \u001b[0mr\u001b[0m\u001b[1;33m.\u001b[0m\u001b[0mhtml\u001b[0m\u001b[1;33m.\u001b[0m\u001b[0mrender\u001b[0m\u001b[1;33m(\u001b[0m\u001b[0msleep\u001b[0m\u001b[1;33m=\u001b[0m\u001b[1;36m5\u001b[0m\u001b[1;33m)\u001b[0m\u001b[1;33m\u001b[0m\u001b[0m\n\u001b[0m\u001b[0;32m      4\u001b[0m \u001b[1;33m\u001b[0m\u001b[0m\n\u001b[0;32m      5\u001b[0m \u001b[0msel\u001b[0m \u001b[1;33m=\u001b[0m \u001b[1;34m'.session-summary h3'\u001b[0m\u001b[1;33m\u001b[0m\u001b[0m\n",
      "\u001b[1;32mC:\\Anaconda3\\lib\\site-packages\\requests_html.py\u001b[0m in \u001b[0;36mrender\u001b[1;34m(self, retries, script, wait, scrolldown, sleep, reload, timeout, keep_page)\u001b[0m\n\u001b[0;32m    570\u001b[0m                 \u001b[1;32mreturn\u001b[0m \u001b[1;32mNone\u001b[0m\u001b[1;33m\u001b[0m\u001b[0m\n\u001b[0;32m    571\u001b[0m \u001b[1;33m\u001b[0m\u001b[0m\n\u001b[1;32m--> 572\u001b[1;33m         \u001b[0mself\u001b[0m\u001b[1;33m.\u001b[0m\u001b[0msession\u001b[0m\u001b[1;33m.\u001b[0m\u001b[0mbrowser\u001b[0m  \u001b[1;31m# Automatycally create a event loop and browser\u001b[0m\u001b[1;33m\u001b[0m\u001b[0m\n\u001b[0m\u001b[0;32m    573\u001b[0m         \u001b[0mcontent\u001b[0m \u001b[1;33m=\u001b[0m \u001b[1;32mNone\u001b[0m\u001b[1;33m\u001b[0m\u001b[0m\n\u001b[0;32m    574\u001b[0m \u001b[1;33m\u001b[0m\u001b[0m\n",
      "\u001b[1;32mC:\\Anaconda3\\lib\\site-packages\\requests_html.py\u001b[0m in \u001b[0;36mbrowser\u001b[1;34m(self)\u001b[0m\n\u001b[0;32m    678\u001b[0m         \u001b[1;32mif\u001b[0m \u001b[1;32mnot\u001b[0m \u001b[0mhasattr\u001b[0m\u001b[1;33m(\u001b[0m\u001b[0mself\u001b[0m\u001b[1;33m,\u001b[0m \u001b[1;34m\"_browser\"\u001b[0m\u001b[1;33m)\u001b[0m\u001b[1;33m:\u001b[0m\u001b[1;33m\u001b[0m\u001b[0m\n\u001b[0;32m    679\u001b[0m             \u001b[0mself\u001b[0m\u001b[1;33m.\u001b[0m\u001b[0mloop\u001b[0m \u001b[1;33m=\u001b[0m \u001b[0masyncio\u001b[0m\u001b[1;33m.\u001b[0m\u001b[0mget_event_loop\u001b[0m\u001b[1;33m(\u001b[0m\u001b[1;33m)\u001b[0m\u001b[1;33m\u001b[0m\u001b[0m\n\u001b[1;32m--> 680\u001b[1;33m             \u001b[0mself\u001b[0m\u001b[1;33m.\u001b[0m\u001b[0m_browser\u001b[0m \u001b[1;33m=\u001b[0m \u001b[0mself\u001b[0m\u001b[1;33m.\u001b[0m\u001b[0mloop\u001b[0m\u001b[1;33m.\u001b[0m\u001b[0mrun_until_complete\u001b[0m\u001b[1;33m(\u001b[0m\u001b[0mpyppeteer\u001b[0m\u001b[1;33m.\u001b[0m\u001b[0mlaunch\u001b[0m\u001b[1;33m(\u001b[0m\u001b[0mheadless\u001b[0m\u001b[1;33m=\u001b[0m\u001b[1;32mTrue\u001b[0m\u001b[1;33m,\u001b[0m \u001b[0margs\u001b[0m\u001b[1;33m=\u001b[0m\u001b[1;33m[\u001b[0m\u001b[1;34m'--no-sandbox'\u001b[0m\u001b[1;33m]\u001b[0m\u001b[1;33m)\u001b[0m\u001b[1;33m)\u001b[0m\u001b[1;33m\u001b[0m\u001b[0m\n\u001b[0m\u001b[0;32m    681\u001b[0m         \u001b[1;32mreturn\u001b[0m \u001b[0mself\u001b[0m\u001b[1;33m.\u001b[0m\u001b[0m_browser\u001b[0m\u001b[1;33m\u001b[0m\u001b[0m\n\u001b[0;32m    682\u001b[0m \u001b[1;33m\u001b[0m\u001b[0m\n",
      "\u001b[1;32mC:\\Anaconda3\\lib\\asyncio\\base_events.py\u001b[0m in \u001b[0;36mrun_until_complete\u001b[1;34m(self, future)\u001b[0m\n\u001b[0;32m    453\u001b[0m         \u001b[0mfuture\u001b[0m\u001b[1;33m.\u001b[0m\u001b[0madd_done_callback\u001b[0m\u001b[1;33m(\u001b[0m\u001b[0m_run_until_complete_cb\u001b[0m\u001b[1;33m)\u001b[0m\u001b[1;33m\u001b[0m\u001b[0m\n\u001b[0;32m    454\u001b[0m         \u001b[1;32mtry\u001b[0m\u001b[1;33m:\u001b[0m\u001b[1;33m\u001b[0m\u001b[0m\n\u001b[1;32m--> 455\u001b[1;33m             \u001b[0mself\u001b[0m\u001b[1;33m.\u001b[0m\u001b[0mrun_forever\u001b[0m\u001b[1;33m(\u001b[0m\u001b[1;33m)\u001b[0m\u001b[1;33m\u001b[0m\u001b[0m\n\u001b[0m\u001b[0;32m    456\u001b[0m         \u001b[1;32mexcept\u001b[0m\u001b[1;33m:\u001b[0m\u001b[1;33m\u001b[0m\u001b[0m\n\u001b[0;32m    457\u001b[0m             \u001b[1;32mif\u001b[0m \u001b[0mnew_task\u001b[0m \u001b[1;32mand\u001b[0m \u001b[0mfuture\u001b[0m\u001b[1;33m.\u001b[0m\u001b[0mdone\u001b[0m\u001b[1;33m(\u001b[0m\u001b[1;33m)\u001b[0m \u001b[1;32mand\u001b[0m \u001b[1;32mnot\u001b[0m \u001b[0mfuture\u001b[0m\u001b[1;33m.\u001b[0m\u001b[0mcancelled\u001b[0m\u001b[1;33m(\u001b[0m\u001b[1;33m)\u001b[0m\u001b[1;33m:\u001b[0m\u001b[1;33m\u001b[0m\u001b[0m\n",
      "\u001b[1;32mC:\\Anaconda3\\lib\\asyncio\\base_events.py\u001b[0m in \u001b[0;36mrun_forever\u001b[1;34m(self)\u001b[0m\n\u001b[0;32m    407\u001b[0m         \u001b[0mself\u001b[0m\u001b[1;33m.\u001b[0m\u001b[0m_check_closed\u001b[0m\u001b[1;33m(\u001b[0m\u001b[1;33m)\u001b[0m\u001b[1;33m\u001b[0m\u001b[0m\n\u001b[0;32m    408\u001b[0m         \u001b[1;32mif\u001b[0m \u001b[0mself\u001b[0m\u001b[1;33m.\u001b[0m\u001b[0mis_running\u001b[0m\u001b[1;33m(\u001b[0m\u001b[1;33m)\u001b[0m\u001b[1;33m:\u001b[0m\u001b[1;33m\u001b[0m\u001b[0m\n\u001b[1;32m--> 409\u001b[1;33m             \u001b[1;32mraise\u001b[0m \u001b[0mRuntimeError\u001b[0m\u001b[1;33m(\u001b[0m\u001b[1;34m'This event loop is already running'\u001b[0m\u001b[1;33m)\u001b[0m\u001b[1;33m\u001b[0m\u001b[0m\n\u001b[0m\u001b[0;32m    410\u001b[0m         \u001b[1;32mif\u001b[0m \u001b[0mevents\u001b[0m\u001b[1;33m.\u001b[0m\u001b[0m_get_running_loop\u001b[0m\u001b[1;33m(\u001b[0m\u001b[1;33m)\u001b[0m \u001b[1;32mis\u001b[0m \u001b[1;32mnot\u001b[0m \u001b[1;32mNone\u001b[0m\u001b[1;33m:\u001b[0m\u001b[1;33m\u001b[0m\u001b[0m\n\u001b[0;32m    411\u001b[0m             raise RuntimeError(\n",
      "\u001b[1;31mRuntimeError\u001b[0m: This event loop is already running"
     ]
    }
   ],
   "source": [
    "session = HTMLSession()\n",
    "r = session.get('https://pycon.jp/2018/event/sessions')\n",
    "r.html.render(sleep=5)\n",
    "\n",
    "sel = '.session-summary h3'\n",
    "elems = r.htmlfind(sel)\n",
    "\n",
    "print([i.text for i in elems])"
   ]
  },
  {
   "cell_type": "code",
   "execution_count": null,
   "metadata": {},
   "outputs": [],
   "source": []
  }
 ],
 "metadata": {
  "kernelspec": {
   "display_name": "Python 3",
   "language": "python",
   "name": "python3"
  },
  "language_info": {
   "codemirror_mode": {
    "name": "ipython",
    "version": 3
   },
   "file_extension": ".py",
   "mimetype": "text/x-python",
   "name": "python",
   "nbconvert_exporter": "python",
   "pygments_lexer": "ipython3",
   "version": "3.6.5"
  }
 },
 "nbformat": 4,
 "nbformat_minor": 2
}
